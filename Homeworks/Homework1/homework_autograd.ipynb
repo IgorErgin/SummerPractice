{
 "cells": [
  {
   "cell_type": "code",
   "execution_count": 3,
   "id": "a0975f4a-47f6-42dd-9f78-c25099f707f1",
   "metadata": {},
   "outputs": [],
   "source": [
    "import torch"
   ]
  },
  {
   "cell_type": "code",
   "execution_count": 4,
   "id": "edc84e2e-4671-43f0-ad9e-76482f79f0d2",
   "metadata": {},
   "outputs": [
    {
     "name": "stdout",
     "output_type": "stream",
     "text": [
      "tensor(14.)\n",
      "tensor(10.)\n",
      "tensor(10.)\n"
     ]
    }
   ],
   "source": [
    "#2.1 Простые вычисления с градиентами\n",
    "# Создайте тензоры x, y, z с requires_grad=True\n",
    "# Вычислите функцию: f(x,y,z) = x^2 + y^2 + z^2 + 2*x*y*z\n",
    "# Найдите градиенты по всем переменным\n",
    "# Проверьте результат аналитически\n",
    "\n",
    "# Создаем тензоры x, y, z\n",
    "x = torch.tensor(1.0, requires_grad=True)\n",
    "y = torch.tensor(2.0, requires_grad=True)\n",
    "z = torch.tensor(3.0, requires_grad=True)\n",
    "\n",
    "\n",
    "# Вычисляем функцию f(x,y,z) = x^2 + y^2 + z^2 + 2*x*y*z\n",
    "f = x**2 + y**2 + z**2 + 2 * x * y * z\n",
    "\n",
    "f.backward()\n",
    "\n",
    "print(x.grad)\n",
    "print(y.grad)\n",
    "print(z.grad)\n",
    "\n",
    "# берём частные производные по x y z, подставляем числовые значения и получаем:\n",
    "# для x = 14\n",
    "# для y = 10\n",
    "# для z = 10"
   ]
  },
  {
   "cell_type": "code",
   "execution_count": 5,
   "id": "7a53a742-d4f4-4535-93f9-c1be7abd64d6",
   "metadata": {},
   "outputs": [
    {
     "name": "stdout",
     "output_type": "stream",
     "text": [
      "Градиент по w: -15.0\n",
      "Градиент по b: -5.0\n"
     ]
    }
   ],
   "source": [
    "#2.2 Градиент функции потерь\n",
    "# Реализуйте функцию MSE (Mean Squared Error):\n",
    "# MSE = (1/n) * Σ(y_pred - y_true)^2\n",
    "# где y_pred = w * x + b (линейная функция)\n",
    "# Найдите градиенты по w и b\n",
    "x = torch.tensor([1.0, 2.0, 3.0, 4.0])\n",
    "y_true = torch.tensor([2.0, 4.0, 6.0, 8.0])\n",
    "\n",
    "# Параметры модели\n",
    "w = torch.tensor(1.0, requires_grad=True)\n",
    "b = torch.tensor(0.0, requires_grad=True)\n",
    "\n",
    "# Линейная функция: y_pred = w * x + b\n",
    "y_pred = w * x + b\n",
    "\n",
    "# Вычисление MSE: (1/n) * Σ(y_pred - y_true)^2\n",
    "mse = torch.mean((y_pred - y_true)**2)\n",
    "\n",
    "# Вычисление градиентов\n",
    "mse.backward()\n",
    "\n",
    "# Вывод градиентов\n",
    "print(f\"Градиент по w: {w.grad}\")\n",
    "print(f\"Градиент по b: {b.grad}\")"
   ]
  },
  {
   "cell_type": "code",
   "execution_count": 7,
   "id": "f11e64f1-1384-4ad3-9ea2-c5b0d2e24322",
   "metadata": {},
   "outputs": [
    {
     "name": "stdout",
     "output_type": "stream",
     "text": [
      "Градиент по x (backward): 1.1346487998962402\n",
      "Градиент по x (autograd): 1.1346487998962402\n"
     ]
    }
   ],
   "source": [
    "#2.3 Цепное правило\n",
    "# Реализуйте составную функцию: f(x) = sin(x^2 + 1)\n",
    "# Найдите градиент df/dx\n",
    "# Проверьте результат с помощью torch.autograd.grad\n",
    "\n",
    "# Создаем тензор x с requires_grad=True\n",
    "x = torch.tensor(2.0, requires_grad=True)\n",
    "\n",
    "# Вычисляем функцию f(x) = sin(x^2 + 1)\n",
    "f = torch.sin(x**2 + 1)\n",
    "\n",
    "# Вычисляем градиент с помощью backward(), сохраняя граф\n",
    "f.backward(retain_graph=True)\n",
    "grad_backward = x.grad\n",
    "print(f\"Градиент по x (backward): {grad_backward}\")\n",
    "\n",
    "# Проверяем градиент с помощью torch.autograd.grad\n",
    "grad_autograd = torch.autograd.grad(f, x, retain_graph=True)[0]\n",
    "print(f\"Градиент по x (autograd): {grad_autograd}\")"
   ]
  },
  {
   "cell_type": "code",
   "execution_count": null,
   "id": "ed46b6c2-e225-4f55-8063-5f32f458dc3b",
   "metadata": {},
   "outputs": [],
   "source": []
  }
 ],
 "metadata": {
  "kernelspec": {
   "display_name": "Python [conda env:base] *",
   "language": "python",
   "name": "conda-base-py"
  },
  "language_info": {
   "codemirror_mode": {
    "name": "ipython",
    "version": 3
   },
   "file_extension": ".py",
   "mimetype": "text/x-python",
   "name": "python",
   "nbconvert_exporter": "python",
   "pygments_lexer": "ipython3",
   "version": "3.13.5"
  }
 },
 "nbformat": 4,
 "nbformat_minor": 5
}
