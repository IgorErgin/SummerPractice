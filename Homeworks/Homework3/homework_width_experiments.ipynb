{
 "cells": [
  {
   "cell_type": "code",
   "execution_count": 2,
   "id": "9478ebbf-be1f-4a7c-ab70-ba11fe1a2457",
   "metadata": {},
   "outputs": [
    {
     "name": "stdout",
     "output_type": "stream",
     "text": [
      "=== Эксперимент 2.1: Сравнение моделей с разной шириной слоев ===\n",
      "\n",
      "Обучение модели narrow...\n"
     ]
    },
    {
     "name": "stderr",
     "output_type": "stream",
     "text": [
      "100%|████████████████████████████████████████████████████████████████████████████████| 938/938 [00:12<00:00, 73.41it/s]\n",
      "100%|████████████████████████████████████████████████████████████████████████████████| 157/157 [00:01<00:00, 87.09it/s]\n"
     ]
    },
    {
     "name": "stdout",
     "output_type": "stream",
     "text": [
      "Epoch 1/10:\n",
      "Train Loss: 0.3847, Train Acc: 0.8823\n",
      "Test Loss: 0.2027, Test Acc: 0.9366\n",
      "--------------------------------------------------\n"
     ]
    },
    {
     "name": "stderr",
     "output_type": "stream",
     "text": [
      "100%|████████████████████████████████████████████████████████████████████████████████| 938/938 [00:12<00:00, 77.44it/s]\n",
      "100%|████████████████████████████████████████████████████████████████████████████████| 157/157 [00:02<00:00, 76.24it/s]\n"
     ]
    },
    {
     "name": "stdout",
     "output_type": "stream",
     "text": [
      "Epoch 2/10:\n",
      "Train Loss: 0.1712, Train Acc: 0.9484\n",
      "Test Loss: 0.1340, Test Acc: 0.9584\n",
      "--------------------------------------------------\n"
     ]
    },
    {
     "name": "stderr",
     "output_type": "stream",
     "text": [
      "100%|████████████████████████████████████████████████████████████████████████████████| 938/938 [00:12<00:00, 76.08it/s]\n",
      "100%|████████████████████████████████████████████████████████████████████████████████| 157/157 [00:01<00:00, 84.98it/s]\n"
     ]
    },
    {
     "name": "stdout",
     "output_type": "stream",
     "text": [
      "Epoch 3/10:\n",
      "Train Loss: 0.1247, Train Acc: 0.9624\n",
      "Test Loss: 0.1251, Test Acc: 0.9617\n",
      "--------------------------------------------------\n"
     ]
    },
    {
     "name": "stderr",
     "output_type": "stream",
     "text": [
      "100%|████████████████████████████████████████████████████████████████████████████████| 938/938 [00:12<00:00, 76.75it/s]\n",
      "100%|████████████████████████████████████████████████████████████████████████████████| 157/157 [00:01<00:00, 83.70it/s]\n"
     ]
    },
    {
     "name": "stdout",
     "output_type": "stream",
     "text": [
      "Epoch 4/10:\n",
      "Train Loss: 0.1017, Train Acc: 0.9682\n",
      "Test Loss: 0.1149, Test Acc: 0.9644\n",
      "--------------------------------------------------\n"
     ]
    },
    {
     "name": "stderr",
     "output_type": "stream",
     "text": [
      "100%|████████████████████████████████████████████████████████████████████████████████| 938/938 [00:12<00:00, 76.54it/s]\n",
      "100%|████████████████████████████████████████████████████████████████████████████████| 157/157 [00:01<00:00, 86.30it/s]\n"
     ]
    },
    {
     "name": "stdout",
     "output_type": "stream",
     "text": [
      "Epoch 5/10:\n",
      "Train Loss: 0.0860, Train Acc: 0.9732\n",
      "Test Loss: 0.1049, Test Acc: 0.9684\n",
      "--------------------------------------------------\n"
     ]
    },
    {
     "name": "stderr",
     "output_type": "stream",
     "text": [
      "100%|████████████████████████████████████████████████████████████████████████████████| 938/938 [00:12<00:00, 76.86it/s]\n",
      "100%|████████████████████████████████████████████████████████████████████████████████| 157/157 [00:01<00:00, 85.06it/s]\n"
     ]
    },
    {
     "name": "stdout",
     "output_type": "stream",
     "text": [
      "Epoch 6/10:\n",
      "Train Loss: 0.0734, Train Acc: 0.9765\n",
      "Test Loss: 0.1119, Test Acc: 0.9654\n",
      "--------------------------------------------------\n"
     ]
    },
    {
     "name": "stderr",
     "output_type": "stream",
     "text": [
      "100%|████████████████████████████████████████████████████████████████████████████████| 938/938 [00:12<00:00, 76.42it/s]\n",
      "100%|████████████████████████████████████████████████████████████████████████████████| 157/157 [00:01<00:00, 84.66it/s]\n"
     ]
    },
    {
     "name": "stdout",
     "output_type": "stream",
     "text": [
      "Epoch 7/10:\n",
      "Train Loss: 0.0655, Train Acc: 0.9793\n",
      "Test Loss: 0.1040, Test Acc: 0.9680\n",
      "--------------------------------------------------\n"
     ]
    },
    {
     "name": "stderr",
     "output_type": "stream",
     "text": [
      "100%|████████████████████████████████████████████████████████████████████████████████| 938/938 [00:12<00:00, 73.68it/s]\n",
      "100%|████████████████████████████████████████████████████████████████████████████████| 157/157 [00:01<00:00, 87.07it/s]\n"
     ]
    },
    {
     "name": "stdout",
     "output_type": "stream",
     "text": [
      "Epoch 8/10:\n",
      "Train Loss: 0.0581, Train Acc: 0.9811\n",
      "Test Loss: 0.0940, Test Acc: 0.9712\n",
      "--------------------------------------------------\n"
     ]
    },
    {
     "name": "stderr",
     "output_type": "stream",
     "text": [
      "100%|████████████████████████████████████████████████████████████████████████████████| 938/938 [00:12<00:00, 76.03it/s]\n",
      "100%|████████████████████████████████████████████████████████████████████████████████| 157/157 [00:01<00:00, 85.63it/s]\n"
     ]
    },
    {
     "name": "stdout",
     "output_type": "stream",
     "text": [
      "Epoch 9/10:\n",
      "Train Loss: 0.0523, Train Acc: 0.9826\n",
      "Test Loss: 0.1048, Test Acc: 0.9693\n",
      "--------------------------------------------------\n"
     ]
    },
    {
     "name": "stderr",
     "output_type": "stream",
     "text": [
      "100%|████████████████████████████████████████████████████████████████████████████████| 938/938 [00:12<00:00, 77.06it/s]\n",
      "100%|████████████████████████████████████████████████████████████████████████████████| 157/157 [00:01<00:00, 85.78it/s]\n"
     ]
    },
    {
     "name": "stdout",
     "output_type": "stream",
     "text": [
      "Epoch 10/10:\n",
      "Train Loss: 0.0459, Train Acc: 0.9852\n",
      "Test Loss: 0.1012, Test Acc: 0.9702\n",
      "--------------------------------------------------\n",
      "\n",
      "Обучение модели medium...\n"
     ]
    },
    {
     "name": "stderr",
     "output_type": "stream",
     "text": [
      "100%|████████████████████████████████████████████████████████████████████████████████| 938/938 [00:15<00:00, 60.13it/s]\n",
      "100%|████████████████████████████████████████████████████████████████████████████████| 157/157 [00:01<00:00, 80.41it/s]\n"
     ]
    },
    {
     "name": "stdout",
     "output_type": "stream",
     "text": [
      "Epoch 1/10:\n",
      "Train Loss: 0.2574, Train Acc: 0.9228\n",
      "Test Loss: 0.1186, Test Acc: 0.9640\n",
      "--------------------------------------------------\n"
     ]
    },
    {
     "name": "stderr",
     "output_type": "stream",
     "text": [
      "100%|████████████████████████████████████████████████████████████████████████████████| 938/938 [00:15<00:00, 61.88it/s]\n",
      "100%|████████████████████████████████████████████████████████████████████████████████| 157/157 [00:01<00:00, 79.99it/s]\n"
     ]
    },
    {
     "name": "stdout",
     "output_type": "stream",
     "text": [
      "Epoch 2/10:\n",
      "Train Loss: 0.1024, Train Acc: 0.9688\n",
      "Test Loss: 0.0995, Test Acc: 0.9703\n",
      "--------------------------------------------------\n"
     ]
    },
    {
     "name": "stderr",
     "output_type": "stream",
     "text": [
      "100%|████████████████████████████████████████████████████████████████████████████████| 938/938 [00:13<00:00, 70.99it/s]\n",
      "100%|████████████████████████████████████████████████████████████████████████████████| 157/157 [00:01<00:00, 85.06it/s]\n"
     ]
    },
    {
     "name": "stdout",
     "output_type": "stream",
     "text": [
      "Epoch 3/10:\n",
      "Train Loss: 0.0720, Train Acc: 0.9778\n",
      "Test Loss: 0.0869, Test Acc: 0.9727\n",
      "--------------------------------------------------\n"
     ]
    },
    {
     "name": "stderr",
     "output_type": "stream",
     "text": [
      "100%|████████████████████████████████████████████████████████████████████████████████| 938/938 [00:12<00:00, 72.62it/s]\n",
      "100%|████████████████████████████████████████████████████████████████████████████████| 157/157 [00:01<00:00, 86.27it/s]\n"
     ]
    },
    {
     "name": "stdout",
     "output_type": "stream",
     "text": [
      "Epoch 4/10:\n",
      "Train Loss: 0.0556, Train Acc: 0.9821\n",
      "Test Loss: 0.0861, Test Acc: 0.9721\n",
      "--------------------------------------------------\n"
     ]
    },
    {
     "name": "stderr",
     "output_type": "stream",
     "text": [
      "100%|████████████████████████████████████████████████████████████████████████████████| 938/938 [00:12<00:00, 73.00it/s]\n",
      "100%|████████████████████████████████████████████████████████████████████████████████| 157/157 [00:01<00:00, 85.75it/s]\n"
     ]
    },
    {
     "name": "stdout",
     "output_type": "stream",
     "text": [
      "Epoch 5/10:\n",
      "Train Loss: 0.0447, Train Acc: 0.9854\n",
      "Test Loss: 0.0832, Test Acc: 0.9768\n",
      "--------------------------------------------------\n"
     ]
    },
    {
     "name": "stderr",
     "output_type": "stream",
     "text": [
      "100%|████████████████████████████████████████████████████████████████████████████████| 938/938 [00:12<00:00, 72.92it/s]\n",
      "100%|████████████████████████████████████████████████████████████████████████████████| 157/157 [00:01<00:00, 84.32it/s]\n"
     ]
    },
    {
     "name": "stdout",
     "output_type": "stream",
     "text": [
      "Epoch 6/10:\n",
      "Train Loss: 0.0371, Train Acc: 0.9881\n",
      "Test Loss: 0.0928, Test Acc: 0.9733\n",
      "--------------------------------------------------\n"
     ]
    },
    {
     "name": "stderr",
     "output_type": "stream",
     "text": [
      "100%|████████████████████████████████████████████████████████████████████████████████| 938/938 [00:12<00:00, 73.60it/s]\n",
      "100%|████████████████████████████████████████████████████████████████████████████████| 157/157 [00:01<00:00, 83.15it/s]\n"
     ]
    },
    {
     "name": "stdout",
     "output_type": "stream",
     "text": [
      "Epoch 7/10:\n",
      "Train Loss: 0.0327, Train Acc: 0.9891\n",
      "Test Loss: 0.0841, Test Acc: 0.9766\n",
      "--------------------------------------------------\n"
     ]
    },
    {
     "name": "stderr",
     "output_type": "stream",
     "text": [
      "100%|████████████████████████████████████████████████████████████████████████████████| 938/938 [00:12<00:00, 72.94it/s]\n",
      "100%|████████████████████████████████████████████████████████████████████████████████| 157/157 [00:01<00:00, 86.52it/s]\n"
     ]
    },
    {
     "name": "stdout",
     "output_type": "stream",
     "text": [
      "Epoch 8/10:\n",
      "Train Loss: 0.0291, Train Acc: 0.9910\n",
      "Test Loss: 0.0863, Test Acc: 0.9776\n",
      "--------------------------------------------------\n"
     ]
    },
    {
     "name": "stderr",
     "output_type": "stream",
     "text": [
      "100%|████████████████████████████████████████████████████████████████████████████████| 938/938 [00:12<00:00, 73.03it/s]\n",
      "100%|████████████████████████████████████████████████████████████████████████████████| 157/157 [00:01<00:00, 82.72it/s]\n"
     ]
    },
    {
     "name": "stdout",
     "output_type": "stream",
     "text": [
      "Epoch 9/10:\n",
      "Train Loss: 0.0253, Train Acc: 0.9919\n",
      "Test Loss: 0.0850, Test Acc: 0.9771\n",
      "--------------------------------------------------\n"
     ]
    },
    {
     "name": "stderr",
     "output_type": "stream",
     "text": [
      "100%|████████████████████████████████████████████████████████████████████████████████| 938/938 [00:12<00:00, 72.57it/s]\n",
      "100%|████████████████████████████████████████████████████████████████████████████████| 157/157 [00:01<00:00, 85.92it/s]\n"
     ]
    },
    {
     "name": "stdout",
     "output_type": "stream",
     "text": [
      "Epoch 10/10:\n",
      "Train Loss: 0.0223, Train Acc: 0.9929\n",
      "Test Loss: 0.0676, Test Acc: 0.9827\n",
      "--------------------------------------------------\n",
      "\n",
      "Обучение модели wide...\n"
     ]
    },
    {
     "name": "stderr",
     "output_type": "stream",
     "text": [
      "100%|████████████████████████████████████████████████████████████████████████████████| 938/938 [00:19<00:00, 49.29it/s]\n",
      "100%|████████████████████████████████████████████████████████████████████████████████| 157/157 [00:02<00:00, 77.23it/s]\n"
     ]
    },
    {
     "name": "stdout",
     "output_type": "stream",
     "text": [
      "Epoch 1/10:\n",
      "Train Loss: 0.2103, Train Acc: 0.9345\n",
      "Test Loss: 0.1022, Test Acc: 0.9680\n",
      "--------------------------------------------------\n"
     ]
    },
    {
     "name": "stderr",
     "output_type": "stream",
     "text": [
      "100%|████████████████████████████████████████████████████████████████████████████████| 938/938 [00:19<00:00, 49.19it/s]\n",
      "100%|████████████████████████████████████████████████████████████████████████████████| 157/157 [00:02<00:00, 76.88it/s]\n"
     ]
    },
    {
     "name": "stdout",
     "output_type": "stream",
     "text": [
      "Epoch 2/10:\n",
      "Train Loss: 0.0942, Train Acc: 0.9713\n",
      "Test Loss: 0.0844, Test Acc: 0.9745\n",
      "--------------------------------------------------\n"
     ]
    },
    {
     "name": "stderr",
     "output_type": "stream",
     "text": [
      "100%|████████████████████████████████████████████████████████████████████████████████| 938/938 [00:19<00:00, 48.97it/s]\n",
      "100%|████████████████████████████████████████████████████████████████████████████████| 157/157 [00:02<00:00, 76.43it/s]\n"
     ]
    },
    {
     "name": "stdout",
     "output_type": "stream",
     "text": [
      "Epoch 3/10:\n",
      "Train Loss: 0.0686, Train Acc: 0.9788\n",
      "Test Loss: 0.0689, Test Acc: 0.9799\n",
      "--------------------------------------------------\n"
     ]
    },
    {
     "name": "stderr",
     "output_type": "stream",
     "text": [
      "100%|████████████████████████████████████████████████████████████████████████████████| 938/938 [00:18<00:00, 49.43it/s]\n",
      "100%|████████████████████████████████████████████████████████████████████████████████| 157/157 [00:02<00:00, 76.73it/s]\n"
     ]
    },
    {
     "name": "stdout",
     "output_type": "stream",
     "text": [
      "Epoch 4/10:\n",
      "Train Loss: 0.0542, Train Acc: 0.9830\n",
      "Test Loss: 0.0741, Test Acc: 0.9781\n",
      "--------------------------------------------------\n"
     ]
    },
    {
     "name": "stderr",
     "output_type": "stream",
     "text": [
      "100%|████████████████████████████████████████████████████████████████████████████████| 938/938 [00:19<00:00, 48.28it/s]\n",
      "100%|████████████████████████████████████████████████████████████████████████████████| 157/157 [00:02<00:00, 75.67it/s]\n"
     ]
    },
    {
     "name": "stdout",
     "output_type": "stream",
     "text": [
      "Epoch 5/10:\n",
      "Train Loss: 0.0434, Train Acc: 0.9868\n",
      "Test Loss: 0.0846, Test Acc: 0.9777\n",
      "--------------------------------------------------\n"
     ]
    },
    {
     "name": "stderr",
     "output_type": "stream",
     "text": [
      "100%|████████████████████████████████████████████████████████████████████████████████| 938/938 [00:21<00:00, 44.45it/s]\n",
      "100%|████████████████████████████████████████████████████████████████████████████████| 157/157 [00:02<00:00, 72.24it/s]\n"
     ]
    },
    {
     "name": "stdout",
     "output_type": "stream",
     "text": [
      "Epoch 6/10:\n",
      "Train Loss: 0.0385, Train Acc: 0.9885\n",
      "Test Loss: 0.0808, Test Acc: 0.9802\n",
      "--------------------------------------------------\n"
     ]
    },
    {
     "name": "stderr",
     "output_type": "stream",
     "text": [
      "100%|████████████████████████████████████████████████████████████████████████████████| 938/938 [00:21<00:00, 43.12it/s]\n",
      "100%|████████████████████████████████████████████████████████████████████████████████| 157/157 [00:02<00:00, 64.54it/s]\n"
     ]
    },
    {
     "name": "stdout",
     "output_type": "stream",
     "text": [
      "Epoch 7/10:\n",
      "Train Loss: 0.0333, Train Acc: 0.9903\n",
      "Test Loss: 0.0864, Test Acc: 0.9806\n",
      "--------------------------------------------------\n"
     ]
    },
    {
     "name": "stderr",
     "output_type": "stream",
     "text": [
      "100%|████████████████████████████████████████████████████████████████████████████████| 938/938 [00:20<00:00, 46.89it/s]\n",
      "100%|████████████████████████████████████████████████████████████████████████████████| 157/157 [00:02<00:00, 73.94it/s]\n"
     ]
    },
    {
     "name": "stdout",
     "output_type": "stream",
     "text": [
      "Epoch 8/10:\n",
      "Train Loss: 0.0325, Train Acc: 0.9901\n",
      "Test Loss: 0.0812, Test Acc: 0.9811\n",
      "--------------------------------------------------\n"
     ]
    },
    {
     "name": "stderr",
     "output_type": "stream",
     "text": [
      "100%|████████████████████████████████████████████████████████████████████████████████| 938/938 [00:20<00:00, 46.11it/s]\n",
      "100%|████████████████████████████████████████████████████████████████████████████████| 157/157 [00:02<00:00, 74.84it/s]\n"
     ]
    },
    {
     "name": "stdout",
     "output_type": "stream",
     "text": [
      "Epoch 9/10:\n",
      "Train Loss: 0.0244, Train Acc: 0.9923\n",
      "Test Loss: 0.0884, Test Acc: 0.9802\n",
      "--------------------------------------------------\n"
     ]
    },
    {
     "name": "stderr",
     "output_type": "stream",
     "text": [
      "100%|████████████████████████████████████████████████████████████████████████████████| 938/938 [00:20<00:00, 45.05it/s]\n",
      "100%|████████████████████████████████████████████████████████████████████████████████| 157/157 [00:02<00:00, 69.50it/s]\n"
     ]
    },
    {
     "name": "stdout",
     "output_type": "stream",
     "text": [
      "Epoch 10/10:\n",
      "Train Loss: 0.0255, Train Acc: 0.9927\n",
      "Test Loss: 0.0802, Test Acc: 0.9804\n",
      "--------------------------------------------------\n",
      "\n",
      "Обучение модели very_wide...\n"
     ]
    },
    {
     "name": "stderr",
     "output_type": "stream",
     "text": [
      "100%|████████████████████████████████████████████████████████████████████████████████| 938/938 [00:38<00:00, 24.62it/s]\n",
      "100%|████████████████████████████████████████████████████████████████████████████████| 157/157 [00:02<00:00, 61.19it/s]\n"
     ]
    },
    {
     "name": "stdout",
     "output_type": "stream",
     "text": [
      "Epoch 1/10:\n",
      "Train Loss: 0.2178, Train Acc: 0.9352\n",
      "Test Loss: 0.1419, Test Acc: 0.9565\n",
      "--------------------------------------------------\n"
     ]
    },
    {
     "name": "stderr",
     "output_type": "stream",
     "text": [
      "100%|████████████████████████████████████████████████████████████████████████████████| 938/938 [00:48<00:00, 19.37it/s]\n",
      "100%|████████████████████████████████████████████████████████████████████████████████| 157/157 [00:03<00:00, 47.50it/s]\n"
     ]
    },
    {
     "name": "stdout",
     "output_type": "stream",
     "text": [
      "Epoch 2/10:\n",
      "Train Loss: 0.0989, Train Acc: 0.9715\n",
      "Test Loss: 0.0976, Test Acc: 0.9727\n",
      "--------------------------------------------------\n"
     ]
    },
    {
     "name": "stderr",
     "output_type": "stream",
     "text": [
      "100%|████████████████████████████████████████████████████████████████████████████████| 938/938 [00:38<00:00, 24.12it/s]\n",
      "100%|████████████████████████████████████████████████████████████████████████████████| 157/157 [00:02<00:00, 62.24it/s]\n"
     ]
    },
    {
     "name": "stdout",
     "output_type": "stream",
     "text": [
      "Epoch 3/10:\n",
      "Train Loss: 0.0715, Train Acc: 0.9786\n",
      "Test Loss: 0.0981, Test Acc: 0.9738\n",
      "--------------------------------------------------\n"
     ]
    },
    {
     "name": "stderr",
     "output_type": "stream",
     "text": [
      "100%|████████████████████████████████████████████████████████████████████████████████| 938/938 [00:40<00:00, 23.25it/s]\n",
      "100%|████████████████████████████████████████████████████████████████████████████████| 157/157 [00:02<00:00, 56.66it/s]\n"
     ]
    },
    {
     "name": "stdout",
     "output_type": "stream",
     "text": [
      "Epoch 4/10:\n",
      "Train Loss: 0.0581, Train Acc: 0.9831\n",
      "Test Loss: 0.0803, Test Acc: 0.9756\n",
      "--------------------------------------------------\n"
     ]
    },
    {
     "name": "stderr",
     "output_type": "stream",
     "text": [
      "100%|████████████████████████████████████████████████████████████████████████████████| 938/938 [00:41<00:00, 22.51it/s]\n",
      "100%|████████████████████████████████████████████████████████████████████████████████| 157/157 [00:02<00:00, 53.99it/s]\n"
     ]
    },
    {
     "name": "stdout",
     "output_type": "stream",
     "text": [
      "Epoch 5/10:\n",
      "Train Loss: 0.0469, Train Acc: 0.9855\n",
      "Test Loss: 0.0855, Test Acc: 0.9799\n",
      "--------------------------------------------------\n"
     ]
    },
    {
     "name": "stderr",
     "output_type": "stream",
     "text": [
      "100%|████████████████████████████████████████████████████████████████████████████████| 938/938 [00:40<00:00, 23.03it/s]\n",
      "100%|████████████████████████████████████████████████████████████████████████████████| 157/157 [00:02<00:00, 52.82it/s]\n"
     ]
    },
    {
     "name": "stdout",
     "output_type": "stream",
     "text": [
      "Epoch 6/10:\n",
      "Train Loss: 0.0405, Train Acc: 0.9878\n",
      "Test Loss: 0.1094, Test Acc: 0.9733\n",
      "--------------------------------------------------\n"
     ]
    },
    {
     "name": "stderr",
     "output_type": "stream",
     "text": [
      "100%|████████████████████████████████████████████████████████████████████████████████| 938/938 [00:39<00:00, 23.92it/s]\n",
      "100%|████████████████████████████████████████████████████████████████████████████████| 157/157 [00:02<00:00, 62.02it/s]\n"
     ]
    },
    {
     "name": "stdout",
     "output_type": "stream",
     "text": [
      "Epoch 7/10:\n",
      "Train Loss: 0.0339, Train Acc: 0.9899\n",
      "Test Loss: 0.1041, Test Acc: 0.9755\n",
      "--------------------------------------------------\n"
     ]
    },
    {
     "name": "stderr",
     "output_type": "stream",
     "text": [
      "100%|████████████████████████████████████████████████████████████████████████████████| 938/938 [00:37<00:00, 25.18it/s]\n",
      "100%|████████████████████████████████████████████████████████████████████████████████| 157/157 [00:02<00:00, 63.10it/s]\n"
     ]
    },
    {
     "name": "stdout",
     "output_type": "stream",
     "text": [
      "Epoch 8/10:\n",
      "Train Loss: 0.0309, Train Acc: 0.9907\n",
      "Test Loss: 0.0859, Test Acc: 0.9804\n",
      "--------------------------------------------------\n"
     ]
    },
    {
     "name": "stderr",
     "output_type": "stream",
     "text": [
      "100%|████████████████████████████████████████████████████████████████████████████████| 938/938 [00:37<00:00, 24.86it/s]\n",
      "100%|████████████████████████████████████████████████████████████████████████████████| 157/157 [00:02<00:00, 58.76it/s]\n"
     ]
    },
    {
     "name": "stdout",
     "output_type": "stream",
     "text": [
      "Epoch 9/10:\n",
      "Train Loss: 0.0265, Train Acc: 0.9918\n",
      "Test Loss: 0.0840, Test Acc: 0.9826\n",
      "--------------------------------------------------\n"
     ]
    },
    {
     "name": "stderr",
     "output_type": "stream",
     "text": [
      "100%|████████████████████████████████████████████████████████████████████████████████| 938/938 [00:37<00:00, 25.18it/s]\n",
      "100%|████████████████████████████████████████████████████████████████████████████████| 157/157 [00:02<00:00, 62.47it/s]\n"
     ]
    },
    {
     "name": "stdout",
     "output_type": "stream",
     "text": [
      "Epoch 10/10:\n",
      "Train Loss: 0.0307, Train Acc: 0.9911\n",
      "Test Loss: 0.0954, Test Acc: 0.9796\n",
      "--------------------------------------------------\n"
     ]
    },
    {
     "data": {
      "image/png": "[encoded data removed]",
      "text/plain": [
       "<Figure size 1000x600 with 1 Axes>"
      ]
     },
     "metadata": {},
     "output_type": "display_data"
    },
    {
     "name": "stdout",
     "output_type": "stream",
     "text": [
      "\n",
      "Сводка по экспериментам с шириной:\n",
      "narrow: Параметры: 53018, Время обучения: 142.04 с, Итоговая точность на тестовом наборе: 0.9702\n",
      "medium: Параметры: 242762, Время обучения: 152.74 с, Итоговая точность на тестовом наборе: 0.9827\n",
      "wide: Параметры: 1462538, Время обучения: 221.08 с, Итоговая точность на тестовом наборе: 0.9804\n",
      "very_wide: Параметры: 4235786, Время обучения: 426.91 с, Итоговая точность на тестовом наборе: 0.9796\n",
      "\n",
      "=== Эксперимент 2.2: Оптимизация архитектуры с использованием сетчатого поиска ===\n",
      "\n",
      "Обучение модели contracting_512_256_128...\n"
     ]
    },
    {
     "name": "stderr",
     "output_type": "stream",
     "text": [
      "100%|████████████████████████████████████████████████████████████████████████████████| 938/938 [00:14<00:00, 63.06it/s]\n",
      "100%|████████████████████████████████████████████████████████████████████████████████| 157/157 [00:01<00:00, 80.70it/s]\n"
     ]
    },
    {
     "name": "stdout",
     "output_type": "stream",
     "text": [
      "Epoch 1/10:\n",
      "Train Loss: 0.2200, Train Acc: 0.9327\n",
      "Test Loss: 0.1058, Test Acc: 0.9686\n",
      "--------------------------------------------------\n"
     ]
    },
    {
     "name": "stderr",
     "output_type": "stream",
     "text": [
      "100%|████████████████████████████████████████████████████████████████████████████████| 938/938 [00:14<00:00, 63.19it/s]\n",
      "100%|████████████████████████████████████████████████████████████████████████████████| 157/157 [00:01<00:00, 80.29it/s]\n"
     ]
    },
    {
     "name": "stdout",
     "output_type": "stream",
     "text": [
      "Epoch 2/10:\n",
      "Train Loss: 0.0953, Train Acc: 0.9712\n",
      "Test Loss: 0.0841, Test Acc: 0.9727\n",
      "--------------------------------------------------\n"
     ]
    },
    {
     "name": "stderr",
     "output_type": "stream",
     "text": [
      "100%|████████████████████████████████████████████████████████████████████████████████| 938/938 [00:14<00:00, 62.88it/s]\n",
      "100%|████████████████████████████████████████████████████████████████████████████████| 157/157 [00:01<00:00, 80.49it/s]\n"
     ]
    },
    {
     "name": "stdout",
     "output_type": "stream",
     "text": [
      "Epoch 3/10:\n",
      "Train Loss: 0.0665, Train Acc: 0.9791\n",
      "Test Loss: 0.0760, Test Acc: 0.9753\n",
      "--------------------------------------------------\n"
     ]
    },
    {
     "name": "stderr",
     "output_type": "stream",
     "text": [
      "100%|████████████████████████████████████████████████████████████████████████████████| 938/938 [00:15<00:00, 61.25it/s]\n",
      "100%|████████████████████████████████████████████████████████████████████████████████| 157/157 [00:02<00:00, 75.17it/s]\n"
     ]
    },
    {
     "name": "stdout",
     "output_type": "stream",
     "text": [
      "Epoch 4/10:\n",
      "Train Loss: 0.0520, Train Acc: 0.9839\n",
      "Test Loss: 0.0705, Test Acc: 0.9784\n",
      "--------------------------------------------------\n"
     ]
    },
    {
     "name": "stderr",
     "output_type": "stream",
     "text": [
      "100%|████████████████████████████████████████████████████████████████████████████████| 938/938 [00:15<00:00, 60.89it/s]\n",
      "100%|████████████████████████████████████████████████████████████████████████████████| 157/157 [00:01<00:00, 79.06it/s]\n"
     ]
    },
    {
     "name": "stdout",
     "output_type": "stream",
     "text": [
      "Epoch 5/10:\n",
      "Train Loss: 0.0429, Train Acc: 0.9866\n",
      "Test Loss: 0.0728, Test Acc: 0.9791\n",
      "--------------------------------------------------\n"
     ]
    },
    {
     "name": "stderr",
     "output_type": "stream",
     "text": [
      "100%|████████████████████████████████████████████████████████████████████████████████| 938/938 [00:15<00:00, 60.38it/s]\n",
      "100%|████████████████████████████████████████████████████████████████████████████████| 157/157 [00:01<00:00, 79.00it/s]\n"
     ]
    },
    {
     "name": "stdout",
     "output_type": "stream",
     "text": [
      "Epoch 6/10:\n",
      "Train Loss: 0.0355, Train Acc: 0.9891\n",
      "Test Loss: 0.0763, Test Acc: 0.9799\n",
      "--------------------------------------------------\n"
     ]
    },
    {
     "name": "stderr",
     "output_type": "stream",
     "text": [
      "100%|████████████████████████████████████████████████████████████████████████████████| 938/938 [00:15<00:00, 62.18it/s]\n",
      "100%|████████████████████████████████████████████████████████████████████████████████| 157/157 [00:01<00:00, 79.80it/s]\n"
     ]
    },
    {
     "name": "stdout",
     "output_type": "stream",
     "text": [
      "Epoch 7/10:\n",
      "Train Loss: 0.0320, Train Acc: 0.9899\n",
      "Test Loss: 0.0904, Test Acc: 0.9768\n",
      "--------------------------------------------------\n"
     ]
    },
    {
     "name": "stderr",
     "output_type": "stream",
     "text": [
      "100%|████████████████████████████████████████████████████████████████████████████████| 938/938 [00:14<00:00, 62.75it/s]\n",
      "100%|████████████████████████████████████████████████████████████████████████████████| 157/157 [00:01<00:00, 81.35it/s]\n"
     ]
    },
    {
     "name": "stdout",
     "output_type": "stream",
     "text": [
      "Epoch 8/10:\n",
      "Train Loss: 0.0283, Train Acc: 0.9909\n",
      "Test Loss: 0.0840, Test Acc: 0.9760\n",
      "--------------------------------------------------\n"
     ]
    },
    {
     "name": "stderr",
     "output_type": "stream",
     "text": [
      "100%|████████████████████████████████████████████████████████████████████████████████| 938/938 [00:14<00:00, 62.82it/s]\n",
      "100%|████████████████████████████████████████████████████████████████████████████████| 157/157 [00:01<00:00, 81.71it/s]\n"
     ]
    },
    {
     "name": "stdout",
     "output_type": "stream",
     "text": [
      "Epoch 9/10:\n",
      "Train Loss: 0.0245, Train Acc: 0.9926\n",
      "Test Loss: 0.0786, Test Acc: 0.9785\n",
      "--------------------------------------------------\n"
     ]
    },
    {
     "name": "stderr",
     "output_type": "stream",
     "text": [
      "100%|████████████████████████████████████████████████████████████████████████████████| 938/938 [00:14<00:00, 62.89it/s]\n",
      "100%|████████████████████████████████████████████████████████████████████████████████| 157/157 [00:01<00:00, 81.39it/s]\n"
     ]
    },
    {
     "name": "stdout",
     "output_type": "stream",
     "text": [
      "Epoch 10/10:\n",
      "Train Loss: 0.0227, Train Acc: 0.9925\n",
      "Test Loss: 0.1265, Test Acc: 0.9742\n",
      "--------------------------------------------------\n",
      "\n",
      "Обучение модели contracting_1024_512_256...\n"
     ]
    },
    {
     "name": "stderr",
     "output_type": "stream",
     "text": [
      "100%|████████████████████████████████████████████████████████████████████████████████| 938/938 [00:19<00:00, 47.74it/s]\n",
      "100%|████████████████████████████████████████████████████████████████████████████████| 157/157 [00:02<00:00, 73.42it/s]\n"
     ]
    },
    {
     "name": "stdout",
     "output_type": "stream",
     "text": [
      "Epoch 1/10:\n",
      "Train Loss: 0.2097, Train Acc: 0.9358\n",
      "Test Loss: 0.1241, Test Acc: 0.9655\n",
      "--------------------------------------------------\n"
     ]
    },
    {
     "name": "stderr",
     "output_type": "stream",
     "text": [
      "100%|████████████████████████████████████████████████████████████████████████████████| 938/938 [00:19<00:00, 47.96it/s]\n",
      "100%|████████████████████████████████████████████████████████████████████████████████| 157/157 [00:02<00:00, 75.15it/s]\n"
     ]
    },
    {
     "name": "stdout",
     "output_type": "stream",
     "text": [
      "Epoch 2/10:\n",
      "Train Loss: 0.0948, Train Acc: 0.9709\n",
      "Test Loss: 0.0864, Test Acc: 0.9759\n",
      "--------------------------------------------------\n"
     ]
    },
    {
     "name": "stderr",
     "output_type": "stream",
     "text": [
      "100%|████████████████████████████████████████████████████████████████████████████████| 938/938 [00:20<00:00, 45.95it/s]\n",
      "100%|████████████████████████████████████████████████████████████████████████████████| 157/157 [00:02<00:00, 71.64it/s]\n"
     ]
    },
    {
     "name": "stdout",
     "output_type": "stream",
     "text": [
      "Epoch 3/10:\n",
      "Train Loss: 0.0677, Train Acc: 0.9793\n",
      "Test Loss: 0.0945, Test Acc: 0.9741\n",
      "--------------------------------------------------\n"
     ]
    },
    {
     "name": "stderr",
     "output_type": "stream",
     "text": [
      "100%|████████████████████████████████████████████████████████████████████████████████| 938/938 [00:19<00:00, 47.10it/s]\n",
      "100%|████████████████████████████████████████████████████████████████████████████████| 157/157 [00:02<00:00, 71.39it/s]\n"
     ]
    },
    {
     "name": "stdout",
     "output_type": "stream",
     "text": [
      "Epoch 4/10:\n",
      "Train Loss: 0.0528, Train Acc: 0.9837\n",
      "Test Loss: 0.0861, Test Acc: 0.9781\n",
      "--------------------------------------------------\n"
     ]
    },
    {
     "name": "stderr",
     "output_type": "stream",
     "text": [
      "100%|████████████████████████████████████████████████████████████████████████████████| 938/938 [00:20<00:00, 46.12it/s]\n",
      "100%|████████████████████████████████████████████████████████████████████████████████| 157/157 [00:02<00:00, 73.21it/s]\n"
     ]
    },
    {
     "name": "stdout",
     "output_type": "stream",
     "text": [
      "Epoch 5/10:\n",
      "Train Loss: 0.0451, Train Acc: 0.9866\n",
      "Test Loss: 0.0687, Test Acc: 0.9802\n",
      "--------------------------------------------------\n"
     ]
    },
    {
     "name": "stderr",
     "output_type": "stream",
     "text": [
      "100%|████████████████████████████████████████████████████████████████████████████████| 938/938 [00:19<00:00, 47.21it/s]\n",
      "100%|████████████████████████████████████████████████████████████████████████████████| 157/157 [00:02<00:00, 72.79it/s]\n"
     ]
    },
    {
     "name": "stdout",
     "output_type": "stream",
     "text": [
      "Epoch 6/10:\n",
      "Train Loss: 0.0389, Train Acc: 0.9887\n",
      "Test Loss: 0.0830, Test Acc: 0.9797\n",
      "--------------------------------------------------\n"
     ]
    },
    {
     "name": "stderr",
     "output_type": "stream",
     "text": [
      "100%|████████████████████████████████████████████████████████████████████████████████| 938/938 [00:19<00:00, 47.02it/s]\n",
      "100%|████████████████████████████████████████████████████████████████████████████████| 157/157 [00:02<00:00, 73.36it/s]\n"
     ]
    },
    {
     "name": "stdout",
     "output_type": "stream",
     "text": [
      "Epoch 7/10:\n",
      "Train Loss: 0.0310, Train Acc: 0.9909\n",
      "Test Loss: 0.0854, Test Acc: 0.9785\n",
      "--------------------------------------------------\n"
     ]
    },
    {
     "name": "stderr",
     "output_type": "stream",
     "text": [
      "100%|████████████████████████████████████████████████████████████████████████████████| 938/938 [00:19<00:00, 47.08it/s]\n",
      "100%|████████████████████████████████████████████████████████████████████████████████| 157/157 [00:02<00:00, 71.72it/s]\n"
     ]
    },
    {
     "name": "stdout",
     "output_type": "stream",
     "text": [
      "Epoch 8/10:\n",
      "Train Loss: 0.0300, Train Acc: 0.9907\n",
      "Test Loss: 0.0757, Test Acc: 0.9808\n",
      "--------------------------------------------------\n"
     ]
    },
    {
     "name": "stderr",
     "output_type": "stream",
     "text": [
      "100%|████████████████████████████████████████████████████████████████████████████████| 938/938 [00:20<00:00, 46.72it/s]\n",
      "100%|████████████████████████████████████████████████████████████████████████████████| 157/157 [00:02<00:00, 73.89it/s]\n"
     ]
    },
    {
     "name": "stdout",
     "output_type": "stream",
     "text": [
      "Epoch 9/10:\n",
      "Train Loss: 0.0261, Train Acc: 0.9924\n",
      "Test Loss: 0.0950, Test Acc: 0.9775\n",
      "--------------------------------------------------\n"
     ]
    },
    {
     "name": "stderr",
     "output_type": "stream",
     "text": [
      "100%|████████████████████████████████████████████████████████████████████████████████| 938/938 [00:19<00:00, 47.05it/s]\n",
      "100%|████████████████████████████████████████████████████████████████████████████████| 157/157 [00:02<00:00, 70.64it/s]\n"
     ]
    },
    {
     "name": "stdout",
     "output_type": "stream",
     "text": [
      "Epoch 10/10:\n",
      "Train Loss: 0.0235, Train Acc: 0.9927\n",
      "Test Loss: 0.1055, Test Acc: 0.9757\n",
      "--------------------------------------------------\n",
      "\n",
      "Обучение модели expanding_128_256_512...\n"
     ]
    },
    {
     "name": "stderr",
     "output_type": "stream",
     "text": [
      "100%|████████████████████████████████████████████████████████████████████████████████| 938/938 [00:14<00:00, 63.25it/s]\n",
      "100%|████████████████████████████████████████████████████████████████████████████████| 157/157 [00:01<00:00, 81.44it/s]\n"
     ]
    },
    {
     "name": "stdout",
     "output_type": "stream",
     "text": [
      "Epoch 1/10:\n",
      "Train Loss: 0.2407, Train Acc: 0.9254\n",
      "Test Loss: 0.1246, Test Acc: 0.9607\n",
      "--------------------------------------------------\n"
     ]
    },
    {
     "name": "stderr",
     "output_type": "stream",
     "text": [
      "100%|████████████████████████████████████████████████████████████████████████████████| 938/938 [00:13<00:00, 68.84it/s]\n",
      "100%|████████████████████████████████████████████████████████████████████████████████| 157/157 [00:01<00:00, 80.55it/s]\n"
     ]
    },
    {
     "name": "stdout",
     "output_type": "stream",
     "text": [
      "Epoch 2/10:\n",
      "Train Loss: 0.1068, Train Acc: 0.9672\n",
      "Test Loss: 0.0981, Test Acc: 0.9701\n",
      "--------------------------------------------------\n"
     ]
    },
    {
     "name": "stderr",
     "output_type": "stream",
     "text": [
      "100%|████████████████████████████████████████████████████████████████████████████████| 938/938 [00:13<00:00, 67.80it/s]\n",
      "100%|████████████████████████████████████████████████████████████████████████████████| 157/157 [00:01<00:00, 79.46it/s]\n"
     ]
    },
    {
     "name": "stdout",
     "output_type": "stream",
     "text": [
      "Epoch 3/10:\n",
      "Train Loss: 0.0777, Train Acc: 0.9763\n",
      "Test Loss: 0.0925, Test Acc: 0.9736\n",
      "--------------------------------------------------\n"
     ]
    },
    {
     "name": "stderr",
     "output_type": "stream",
     "text": [
      "100%|████████████████████████████████████████████████████████████████████████████████| 938/938 [00:13<00:00, 68.20it/s]\n",
      "100%|████████████████████████████████████████████████████████████████████████████████| 157/157 [00:01<00:00, 81.65it/s]\n"
     ]
    },
    {
     "name": "stdout",
     "output_type": "stream",
     "text": [
      "Epoch 4/10:\n",
      "Train Loss: 0.0617, Train Acc: 0.9809\n",
      "Test Loss: 0.0889, Test Acc: 0.9727\n",
      "--------------------------------------------------\n"
     ]
    },
    {
     "name": "stderr",
     "output_type": "stream",
     "text": [
      "100%|████████████████████████████████████████████████████████████████████████████████| 938/938 [00:13<00:00, 68.87it/s]\n",
      "100%|████████████████████████████████████████████████████████████████████████████████| 157/157 [00:01<00:00, 82.25it/s]\n"
     ]
    },
    {
     "name": "stdout",
     "output_type": "stream",
     "text": [
      "Epoch 5/10:\n",
      "Train Loss: 0.0525, Train Acc: 0.9837\n",
      "Test Loss: 0.0892, Test Acc: 0.9726\n",
      "--------------------------------------------------\n"
     ]
    },
    {
     "name": "stderr",
     "output_type": "stream",
     "text": [
      "100%|████████████████████████████████████████████████████████████████████████████████| 938/938 [00:13<00:00, 68.46it/s]\n",
      "100%|████████████████████████████████████████████████████████████████████████████████| 157/157 [00:01<00:00, 82.30it/s]\n"
     ]
    },
    {
     "name": "stdout",
     "output_type": "stream",
     "text": [
      "Epoch 6/10:\n",
      "Train Loss: 0.0438, Train Acc: 0.9857\n",
      "Test Loss: 0.0748, Test Acc: 0.9796\n",
      "--------------------------------------------------\n"
     ]
    },
    {
     "name": "stderr",
     "output_type": "stream",
     "text": [
      "100%|████████████████████████████████████████████████████████████████████████████████| 938/938 [00:13<00:00, 69.12it/s]\n",
      "100%|████████████████████████████████████████████████████████████████████████████████| 157/157 [00:01<00:00, 82.55it/s]\n"
     ]
    },
    {
     "name": "stdout",
     "output_type": "stream",
     "text": [
      "Epoch 7/10:\n",
      "Train Loss: 0.0372, Train Acc: 0.9886\n",
      "Test Loss: 0.0980, Test Acc: 0.9752\n",
      "--------------------------------------------------\n"
     ]
    },
    {
     "name": "stderr",
     "output_type": "stream",
     "text": [
      "100%|████████████████████████████████████████████████████████████████████████████████| 938/938 [00:13<00:00, 69.07it/s]\n",
      "100%|████████████████████████████████████████████████████████████████████████████████| 157/157 [00:01<00:00, 82.88it/s]\n"
     ]
    },
    {
     "name": "stdout",
     "output_type": "stream",
     "text": [
      "Epoch 8/10:\n",
      "Train Loss: 0.0345, Train Acc: 0.9894\n",
      "Test Loss: 0.0968, Test Acc: 0.9764\n",
      "--------------------------------------------------\n"
     ]
    },
    {
     "name": "stderr",
     "output_type": "stream",
     "text": [
      "100%|████████████████████████████████████████████████████████████████████████████████| 938/938 [00:13<00:00, 68.82it/s]\n",
      "100%|████████████████████████████████████████████████████████████████████████████████| 157/157 [00:01<00:00, 82.02it/s]\n"
     ]
    },
    {
     "name": "stdout",
     "output_type": "stream",
     "text": [
      "Epoch 9/10:\n",
      "Train Loss: 0.0319, Train Acc: 0.9897\n",
      "Test Loss: 0.0857, Test Acc: 0.9781\n",
      "--------------------------------------------------\n"
     ]
    },
    {
     "name": "stderr",
     "output_type": "stream",
     "text": [
      "100%|████████████████████████████████████████████████████████████████████████████████| 938/938 [00:13<00:00, 68.63it/s]\n",
      "100%|████████████████████████████████████████████████████████████████████████████████| 157/157 [00:01<00:00, 83.78it/s]\n"
     ]
    },
    {
     "name": "stdout",
     "output_type": "stream",
     "text": [
      "Epoch 10/10:\n",
      "Train Loss: 0.0294, Train Acc: 0.9907\n",
      "Test Loss: 0.0991, Test Acc: 0.9772\n",
      "--------------------------------------------------\n",
      "\n",
      "Обучение модели expanding_256_512_1024...\n"
     ]
    },
    {
     "name": "stderr",
     "output_type": "stream",
     "text": [
      "100%|████████████████████████████████████████████████████████████████████████████████| 938/938 [00:16<00:00, 55.31it/s]\n",
      "100%|████████████████████████████████████████████████████████████████████████████████| 157/157 [00:02<00:00, 78.18it/s]\n"
     ]
    },
    {
     "name": "stdout",
     "output_type": "stream",
     "text": [
      "Epoch 1/10:\n",
      "Train Loss: 0.2197, Train Acc: 0.9324\n",
      "Test Loss: 0.1161, Test Acc: 0.9666\n",
      "--------------------------------------------------\n"
     ]
    },
    {
     "name": "stderr",
     "output_type": "stream",
     "text": [
      "100%|████████████████████████████████████████████████████████████████████████████████| 938/938 [00:16<00:00, 55.64it/s]\n",
      "100%|████████████████████████████████████████████████████████████████████████████████| 157/157 [00:02<00:00, 77.04it/s]\n"
     ]
    },
    {
     "name": "stdout",
     "output_type": "stream",
     "text": [
      "Epoch 2/10:\n",
      "Train Loss: 0.1007, Train Acc: 0.9698\n",
      "Test Loss: 0.1028, Test Acc: 0.9714\n",
      "--------------------------------------------------\n"
     ]
    },
    {
     "name": "stderr",
     "output_type": "stream",
     "text": [
      "100%|████████████████████████████████████████████████████████████████████████████████| 938/938 [00:16<00:00, 55.40it/s]\n",
      "100%|████████████████████████████████████████████████████████████████████████████████| 157/157 [00:02<00:00, 77.50it/s]\n"
     ]
    },
    {
     "name": "stdout",
     "output_type": "stream",
     "text": [
      "Epoch 3/10:\n",
      "Train Loss: 0.0770, Train Acc: 0.9763\n",
      "Test Loss: 0.0826, Test Acc: 0.9750\n",
      "--------------------------------------------------\n"
     ]
    },
    {
     "name": "stderr",
     "output_type": "stream",
     "text": [
      "100%|████████████████████████████████████████████████████████████████████████████████| 938/938 [00:16<00:00, 55.48it/s]\n",
      "100%|████████████████████████████████████████████████████████████████████████████████| 157/157 [00:02<00:00, 78.16it/s]\n"
     ]
    },
    {
     "name": "stdout",
     "output_type": "stream",
     "text": [
      "Epoch 4/10:\n",
      "Train Loss: 0.0610, Train Acc: 0.9812\n",
      "Test Loss: 0.0750, Test Acc: 0.9785\n",
      "--------------------------------------------------\n"
     ]
    },
    {
     "name": "stderr",
     "output_type": "stream",
     "text": [
      "100%|████████████████████████████████████████████████████████████████████████████████| 938/938 [00:17<00:00, 55.13it/s]\n",
      "100%|████████████████████████████████████████████████████████████████████████████████| 157/157 [00:02<00:00, 74.20it/s]\n"
     ]
    },
    {
     "name": "stdout",
     "output_type": "stream",
     "text": [
      "Epoch 5/10:\n",
      "Train Loss: 0.0515, Train Acc: 0.9841\n",
      "Test Loss: 0.1050, Test Acc: 0.9713\n",
      "--------------------------------------------------\n"
     ]
    },
    {
     "name": "stderr",
     "output_type": "stream",
     "text": [
      "100%|████████████████████████████████████████████████████████████████████████████████| 938/938 [00:17<00:00, 54.80it/s]\n",
      "100%|████████████████████████████████████████████████████████████████████████████████| 157/157 [00:02<00:00, 78.14it/s]\n"
     ]
    },
    {
     "name": "stdout",
     "output_type": "stream",
     "text": [
      "Epoch 6/10:\n",
      "Train Loss: 0.0428, Train Acc: 0.9864\n",
      "Test Loss: 0.0912, Test Acc: 0.9778\n",
      "--------------------------------------------------\n"
     ]
    },
    {
     "name": "stderr",
     "output_type": "stream",
     "text": [
      "100%|████████████████████████████████████████████████████████████████████████████████| 938/938 [00:17<00:00, 53.64it/s]\n",
      "100%|████████████████████████████████████████████████████████████████████████████████| 157/157 [00:02<00:00, 74.00it/s]\n"
     ]
    },
    {
     "name": "stdout",
     "output_type": "stream",
     "text": [
      "Epoch 7/10:\n",
      "Train Loss: 0.0382, Train Acc: 0.9887\n",
      "Test Loss: 0.0896, Test Acc: 0.9763\n",
      "--------------------------------------------------\n"
     ]
    },
    {
     "name": "stderr",
     "output_type": "stream",
     "text": [
      "100%|████████████████████████████████████████████████████████████████████████████████| 938/938 [00:19<00:00, 48.35it/s]\n",
      "100%|████████████████████████████████████████████████████████████████████████████████| 157/157 [00:02<00:00, 74.68it/s]\n"
     ]
    },
    {
     "name": "stdout",
     "output_type": "stream",
     "text": [
      "Epoch 8/10:\n",
      "Train Loss: 0.0362, Train Acc: 0.9896\n",
      "Test Loss: 0.1238, Test Acc: 0.9717\n",
      "--------------------------------------------------\n"
     ]
    },
    {
     "name": "stderr",
     "output_type": "stream",
     "text": [
      "100%|████████████████████████████████████████████████████████████████████████████████| 938/938 [00:19<00:00, 49.27it/s]\n",
      "100%|████████████████████████████████████████████████████████████████████████████████| 157/157 [00:02<00:00, 64.68it/s]\n"
     ]
    },
    {
     "name": "stdout",
     "output_type": "stream",
     "text": [
      "Epoch 9/10:\n",
      "Train Loss: 0.0318, Train Acc: 0.9903\n",
      "Test Loss: 0.0750, Test Acc: 0.9798\n",
      "--------------------------------------------------\n"
     ]
    },
    {
     "name": "stderr",
     "output_type": "stream",
     "text": [
      "100%|████████████████████████████████████████████████████████████████████████████████| 938/938 [00:20<00:00, 46.74it/s]\n",
      "100%|████████████████████████████████████████████████████████████████████████████████| 157/157 [00:02<00:00, 66.28it/s]\n"
     ]
    },
    {
     "name": "stdout",
     "output_type": "stream",
     "text": [
      "Epoch 10/10:\n",
      "Train Loss: 0.0276, Train Acc: 0.9917\n",
      "Test Loss: 0.1023, Test Acc: 0.9761\n",
      "--------------------------------------------------\n",
      "\n",
      "Обучение модели constant_256...\n"
     ]
    },
    {
     "name": "stderr",
     "output_type": "stream",
     "text": [
      "100%|████████████████████████████████████████████████████████████████████████████████| 938/938 [00:16<00:00, 57.50it/s]\n",
      "100%|████████████████████████████████████████████████████████████████████████████████| 157/157 [00:02<00:00, 69.85it/s]\n"
     ]
    },
    {
     "name": "stdout",
     "output_type": "stream",
     "text": [
      "Epoch 1/10:\n",
      "Train Loss: 0.2318, Train Acc: 0.9281\n",
      "Test Loss: 0.1164, Test Acc: 0.9634\n",
      "--------------------------------------------------\n"
     ]
    },
    {
     "name": "stderr",
     "output_type": "stream",
     "text": [
      "100%|████████████████████████████████████████████████████████████████████████████████| 938/938 [00:15<00:00, 59.17it/s]\n",
      "100%|████████████████████████████████████████████████████████████████████████████████| 157/157 [00:02<00:00, 74.85it/s]\n"
     ]
    },
    {
     "name": "stdout",
     "output_type": "stream",
     "text": [
      "Epoch 2/10:\n",
      "Train Loss: 0.1005, Train Acc: 0.9694\n",
      "Test Loss: 0.1063, Test Acc: 0.9654\n",
      "--------------------------------------------------\n"
     ]
    },
    {
     "name": "stderr",
     "output_type": "stream",
     "text": [
      "100%|████████████████████████████████████████████████████████████████████████████████| 938/938 [00:17<00:00, 52.41it/s]\n",
      "100%|████████████████████████████████████████████████████████████████████████████████| 157/157 [00:02<00:00, 59.03it/s]\n"
     ]
    },
    {
     "name": "stdout",
     "output_type": "stream",
     "text": [
      "Epoch 3/10:\n",
      "Train Loss: 0.0741, Train Acc: 0.9768\n",
      "Test Loss: 0.0906, Test Acc: 0.9742\n",
      "--------------------------------------------------\n"
     ]
    },
    {
     "name": "stderr",
     "output_type": "stream",
     "text": [
      "100%|████████████████████████████████████████████████████████████████████████████████| 938/938 [00:17<00:00, 53.66it/s]\n",
      "100%|████████████████████████████████████████████████████████████████████████████████| 157/157 [00:02<00:00, 59.13it/s]\n"
     ]
    },
    {
     "name": "stdout",
     "output_type": "stream",
     "text": [
      "Epoch 4/10:\n",
      "Train Loss: 0.0550, Train Acc: 0.9827\n",
      "Test Loss: 0.0869, Test Acc: 0.9753\n",
      "--------------------------------------------------\n"
     ]
    },
    {
     "name": "stderr",
     "output_type": "stream",
     "text": [
      "100%|████████████████████████████████████████████████████████████████████████████████| 938/938 [00:17<00:00, 54.94it/s]\n",
      "100%|████████████████████████████████████████████████████████████████████████████████| 157/157 [00:01<00:00, 79.90it/s]\n"
     ]
    },
    {
     "name": "stdout",
     "output_type": "stream",
     "text": [
      "Epoch 5/10:\n",
      "Train Loss: 0.0470, Train Acc: 0.9853\n",
      "Test Loss: 0.0889, Test Acc: 0.9744\n",
      "--------------------------------------------------\n"
     ]
    },
    {
     "name": "stderr",
     "output_type": "stream",
     "text": [
      "100%|████████████████████████████████████████████████████████████████████████████████| 938/938 [00:14<00:00, 63.68it/s]\n",
      "100%|████████████████████████████████████████████████████████████████████████████████| 157/157 [00:02<00:00, 74.28it/s]\n"
     ]
    },
    {
     "name": "stdout",
     "output_type": "stream",
     "text": [
      "Epoch 6/10:\n",
      "Train Loss: 0.0413, Train Acc: 0.9868\n",
      "Test Loss: 0.0792, Test Acc: 0.9782\n",
      "--------------------------------------------------\n"
     ]
    },
    {
     "name": "stderr",
     "output_type": "stream",
     "text": [
      "100%|████████████████████████████████████████████████████████████████████████████████| 938/938 [00:15<00:00, 60.66it/s]\n",
      "100%|████████████████████████████████████████████████████████████████████████████████| 157/157 [00:02<00:00, 78.16it/s]\n"
     ]
    },
    {
     "name": "stdout",
     "output_type": "stream",
     "text": [
      "Epoch 7/10:\n",
      "Train Loss: 0.0341, Train Acc: 0.9889\n",
      "Test Loss: 0.0798, Test Acc: 0.9780\n",
      "--------------------------------------------------\n"
     ]
    },
    {
     "name": "stderr",
     "output_type": "stream",
     "text": [
      "100%|████████████████████████████████████████████████████████████████████████████████| 938/938 [00:14<00:00, 63.62it/s]\n",
      "100%|████████████████████████████████████████████████████████████████████████████████| 157/157 [00:02<00:00, 77.01it/s]\n"
     ]
    },
    {
     "name": "stdout",
     "output_type": "stream",
     "text": [
      "Epoch 8/10:\n",
      "Train Loss: 0.0306, Train Acc: 0.9906\n",
      "Test Loss: 0.0913, Test Acc: 0.9764\n",
      "--------------------------------------------------\n"
     ]
    },
    {
     "name": "stderr",
     "output_type": "stream",
     "text": [
      "100%|████████████████████████████████████████████████████████████████████████████████| 938/938 [00:15<00:00, 58.97it/s]\n",
      "100%|████████████████████████████████████████████████████████████████████████████████| 157/157 [00:02<00:00, 65.57it/s]\n"
     ]
    },
    {
     "name": "stdout",
     "output_type": "stream",
     "text": [
      "Epoch 9/10:\n",
      "Train Loss: 0.0285, Train Acc: 0.9908\n",
      "Test Loss: 0.0889, Test Acc: 0.9774\n",
      "--------------------------------------------------\n"
     ]
    },
    {
     "name": "stderr",
     "output_type": "stream",
     "text": [
      "100%|████████████████████████████████████████████████████████████████████████████████| 938/938 [00:14<00:00, 66.66it/s]\n",
      "100%|████████████████████████████████████████████████████████████████████████████████| 157/157 [00:01<00:00, 80.85it/s]\n"
     ]
    },
    {
     "name": "stdout",
     "output_type": "stream",
     "text": [
      "Epoch 10/10:\n",
      "Train Loss: 0.0255, Train Acc: 0.9922\n",
      "Test Loss: 0.0825, Test Acc: 0.9799\n",
      "--------------------------------------------------\n",
      "\n",
      "Обучение модели constant_512...\n"
     ]
    },
    {
     "name": "stderr",
     "output_type": "stream",
     "text": [
      "100%|████████████████████████████████████████████████████████████████████████████████| 938/938 [00:18<00:00, 51.79it/s]\n",
      "100%|████████████████████████████████████████████████████████████████████████████████| 157/157 [00:02<00:00, 70.67it/s]\n"
     ]
    },
    {
     "name": "stdout",
     "output_type": "stream",
     "text": [
      "Epoch 1/10:\n",
      "Train Loss: 0.2138, Train Acc: 0.9344\n",
      "Test Loss: 0.1617, Test Acc: 0.9453\n",
      "--------------------------------------------------\n"
     ]
    },
    {
     "name": "stderr",
     "output_type": "stream",
     "text": [
      "100%|████████████████████████████████████████████████████████████████████████████████| 938/938 [00:18<00:00, 50.00it/s]\n",
      "100%|████████████████████████████████████████████████████████████████████████████████| 157/157 [00:02<00:00, 63.35it/s]\n"
     ]
    },
    {
     "name": "stdout",
     "output_type": "stream",
     "text": [
      "Epoch 2/10:\n",
      "Train Loss: 0.0972, Train Acc: 0.9711\n",
      "Test Loss: 0.1037, Test Acc: 0.9686\n",
      "--------------------------------------------------\n"
     ]
    },
    {
     "name": "stderr",
     "output_type": "stream",
     "text": [
      "100%|████████████████████████████████████████████████████████████████████████████████| 938/938 [00:21<00:00, 44.32it/s]\n",
      "100%|████████████████████████████████████████████████████████████████████████████████| 157/157 [00:02<00:00, 69.57it/s]\n"
     ]
    },
    {
     "name": "stdout",
     "output_type": "stream",
     "text": [
      "Epoch 3/10:\n",
      "Train Loss: 0.0710, Train Acc: 0.9787\n",
      "Test Loss: 0.0996, Test Acc: 0.9669\n",
      "--------------------------------------------------\n"
     ]
    },
    {
     "name": "stderr",
     "output_type": "stream",
     "text": [
      "100%|████████████████████████████████████████████████████████████████████████████████| 938/938 [00:18<00:00, 52.10it/s]\n",
      "100%|████████████████████████████████████████████████████████████████████████████████| 157/157 [00:02<00:00, 73.54it/s]\n"
     ]
    },
    {
     "name": "stdout",
     "output_type": "stream",
     "text": [
      "Epoch 4/10:\n",
      "Train Loss: 0.0578, Train Acc: 0.9829\n",
      "Test Loss: 0.1002, Test Acc: 0.9738\n",
      "--------------------------------------------------\n"
     ]
    },
    {
     "name": "stderr",
     "output_type": "stream",
     "text": [
      "100%|████████████████████████████████████████████████████████████████████████████████| 938/938 [00:17<00:00, 52.37it/s]\n",
      "100%|████████████████████████████████████████████████████████████████████████████████| 157/157 [00:02<00:00, 73.35it/s]\n"
     ]
    },
    {
     "name": "stdout",
     "output_type": "stream",
     "text": [
      "Epoch 5/10:\n",
      "Train Loss: 0.0478, Train Acc: 0.9853\n",
      "Test Loss: 0.0862, Test Acc: 0.9782\n",
      "--------------------------------------------------\n"
     ]
    },
    {
     "name": "stderr",
     "output_type": "stream",
     "text": [
      "100%|████████████████████████████████████████████████████████████████████████████████| 938/938 [00:17<00:00, 52.58it/s]\n",
      "100%|████████████████████████████████████████████████████████████████████████████████| 157/157 [00:02<00:00, 68.63it/s]\n"
     ]
    },
    {
     "name": "stdout",
     "output_type": "stream",
     "text": [
      "Epoch 6/10:\n",
      "Train Loss: 0.0417, Train Acc: 0.9875\n",
      "Test Loss: 0.0840, Test Acc: 0.9762\n",
      "--------------------------------------------------\n"
     ]
    },
    {
     "name": "stderr",
     "output_type": "stream",
     "text": [
      "100%|████████████████████████████████████████████████████████████████████████████████| 938/938 [00:17<00:00, 54.33it/s]\n",
      "100%|████████████████████████████████████████████████████████████████████████████████| 157/157 [00:02<00:00, 70.55it/s]\n"
     ]
    },
    {
     "name": "stdout",
     "output_type": "stream",
     "text": [
      "Epoch 7/10:\n",
      "Train Loss: 0.0365, Train Acc: 0.9890\n",
      "Test Loss: 0.0795, Test Acc: 0.9826\n",
      "--------------------------------------------------\n"
     ]
    },
    {
     "name": "stderr",
     "output_type": "stream",
     "text": [
      "100%|████████████████████████████████████████████████████████████████████████████████| 938/938 [00:17<00:00, 54.21it/s]\n",
      "100%|████████████████████████████████████████████████████████████████████████████████| 157/157 [00:02<00:00, 66.41it/s]\n"
     ]
    },
    {
     "name": "stdout",
     "output_type": "stream",
     "text": [
      "Epoch 8/10:\n",
      "Train Loss: 0.0324, Train Acc: 0.9906\n",
      "Test Loss: 0.0787, Test Acc: 0.9820\n",
      "--------------------------------------------------\n"
     ]
    },
    {
     "name": "stderr",
     "output_type": "stream",
     "text": [
      "100%|████████████████████████████████████████████████████████████████████████████████| 938/938 [00:17<00:00, 54.91it/s]\n",
      "100%|████████████████████████████████████████████████████████████████████████████████| 157/157 [00:02<00:00, 73.96it/s]\n"
     ]
    },
    {
     "name": "stdout",
     "output_type": "stream",
     "text": [
      "Epoch 9/10:\n",
      "Train Loss: 0.0276, Train Acc: 0.9916\n",
      "Test Loss: 0.0967, Test Acc: 0.9774\n",
      "--------------------------------------------------\n"
     ]
    },
    {
     "name": "stderr",
     "output_type": "stream",
     "text": [
      "100%|████████████████████████████████████████████████████████████████████████████████| 938/938 [00:18<00:00, 52.00it/s]\n",
      "100%|████████████████████████████████████████████████████████████████████████████████| 157/157 [00:02<00:00, 75.03it/s]\n"
     ]
    },
    {
     "name": "stdout",
     "output_type": "stream",
     "text": [
      "Epoch 10/10:\n",
      "Train Loss: 0.0272, Train Acc: 0.9920\n",
      "Test Loss: 0.0986, Test Acc: 0.9791\n",
      "--------------------------------------------------\n",
      "\n",
      "Обучение модели bottleneck_256_128_256...\n"
     ]
    },
    {
     "name": "stderr",
     "output_type": "stream",
     "text": [
      "100%|████████████████████████████████████████████████████████████████████████████████| 938/938 [00:15<00:00, 60.61it/s]\n",
      "100%|████████████████████████████████████████████████████████████████████████████████| 157/157 [00:02<00:00, 75.62it/s]\n"
     ]
    },
    {
     "name": "stdout",
     "output_type": "stream",
     "text": [
      "Epoch 1/10:\n",
      "Train Loss: 0.2388, Train Acc: 0.9268\n",
      "Test Loss: 0.1160, Test Acc: 0.9639\n",
      "--------------------------------------------------\n"
     ]
    },
    {
     "name": "stderr",
     "output_type": "stream",
     "text": [
      "100%|████████████████████████████████████████████████████████████████████████████████| 938/938 [00:14<00:00, 64.39it/s]\n",
      "100%|████████████████████████████████████████████████████████████████████████████████| 157/157 [00:02<00:00, 75.76it/s]\n"
     ]
    },
    {
     "name": "stdout",
     "output_type": "stream",
     "text": [
      "Epoch 2/10:\n",
      "Train Loss: 0.1005, Train Acc: 0.9688\n",
      "Test Loss: 0.0844, Test Acc: 0.9729\n",
      "--------------------------------------------------\n"
     ]
    },
    {
     "name": "stderr",
     "output_type": "stream",
     "text": [
      "100%|████████████████████████████████████████████████████████████████████████████████| 938/938 [00:14<00:00, 66.49it/s]\n",
      "100%|████████████████████████████████████████████████████████████████████████████████| 157/157 [00:01<00:00, 79.98it/s]\n"
     ]
    },
    {
     "name": "stdout",
     "output_type": "stream",
     "text": [
      "Epoch 3/10:\n",
      "Train Loss: 0.0699, Train Acc: 0.9779\n",
      "Test Loss: 0.0918, Test Acc: 0.9726\n",
      "--------------------------------------------------\n"
     ]
    },
    {
     "name": "stderr",
     "output_type": "stream",
     "text": [
      "100%|████████████████████████████████████████████████████████████████████████████████| 938/938 [00:14<00:00, 66.36it/s]\n",
      "100%|████████████████████████████████████████████████████████████████████████████████| 157/157 [00:02<00:00, 76.99it/s]\n"
     ]
    },
    {
     "name": "stdout",
     "output_type": "stream",
     "text": [
      "Epoch 4/10:\n",
      "Train Loss: 0.0561, Train Acc: 0.9828\n",
      "Test Loss: 0.0868, Test Acc: 0.9753\n",
      "--------------------------------------------------\n"
     ]
    },
    {
     "name": "stderr",
     "output_type": "stream",
     "text": [
      "100%|████████████████████████████████████████████████████████████████████████████████| 938/938 [00:13<00:00, 67.74it/s]\n",
      "100%|████████████████████████████████████████████████████████████████████████████████| 157/157 [00:02<00:00, 77.00it/s]\n"
     ]
    },
    {
     "name": "stdout",
     "output_type": "stream",
     "text": [
      "Epoch 5/10:\n",
      "Train Loss: 0.0462, Train Acc: 0.9854\n",
      "Test Loss: 0.0837, Test Acc: 0.9768\n",
      "--------------------------------------------------\n"
     ]
    },
    {
     "name": "stderr",
     "output_type": "stream",
     "text": [
      "100%|████████████████████████████████████████████████████████████████████████████████| 938/938 [00:15<00:00, 58.63it/s]\n",
      "100%|████████████████████████████████████████████████████████████████████████████████| 157/157 [00:02<00:00, 77.41it/s]\n"
     ]
    },
    {
     "name": "stdout",
     "output_type": "stream",
     "text": [
      "Epoch 6/10:\n",
      "Train Loss: 0.0395, Train Acc: 0.9872\n",
      "Test Loss: 0.0877, Test Acc: 0.9770\n",
      "--------------------------------------------------\n"
     ]
    },
    {
     "name": "stderr",
     "output_type": "stream",
     "text": [
      "100%|████████████████████████████████████████████████████████████████████████████████| 938/938 [00:14<00:00, 66.65it/s]\n",
      "100%|████████████████████████████████████████████████████████████████████████████████| 157/157 [00:01<00:00, 82.33it/s]\n"
     ]
    },
    {
     "name": "stdout",
     "output_type": "stream",
     "text": [
      "Epoch 7/10:\n",
      "Train Loss: 0.0355, Train Acc: 0.9889\n",
      "Test Loss: 0.0853, Test Acc: 0.9788\n",
      "--------------------------------------------------\n"
     ]
    },
    {
     "name": "stderr",
     "output_type": "stream",
     "text": [
      "100%|████████████████████████████████████████████████████████████████████████████████| 938/938 [00:13<00:00, 68.45it/s]\n",
      "100%|████████████████████████████████████████████████████████████████████████████████| 157/157 [00:01<00:00, 82.50it/s]\n"
     ]
    },
    {
     "name": "stdout",
     "output_type": "stream",
     "text": [
      "Epoch 8/10:\n",
      "Train Loss: 0.0306, Train Acc: 0.9903\n",
      "Test Loss: 0.1051, Test Acc: 0.9737\n",
      "--------------------------------------------------\n"
     ]
    },
    {
     "name": "stderr",
     "output_type": "stream",
     "text": [
      "100%|████████████████████████████████████████████████████████████████████████████████| 938/938 [00:13<00:00, 69.20it/s]\n",
      "100%|████████████████████████████████████████████████████████████████████████████████| 157/157 [00:01<00:00, 82.80it/s]\n"
     ]
    },
    {
     "name": "stdout",
     "output_type": "stream",
     "text": [
      "Epoch 9/10:\n",
      "Train Loss: 0.0285, Train Acc: 0.9911\n",
      "Test Loss: 0.0910, Test Acc: 0.9784\n",
      "--------------------------------------------------\n"
     ]
    },
    {
     "name": "stderr",
     "output_type": "stream",
     "text": [
      "100%|████████████████████████████████████████████████████████████████████████████████| 938/938 [00:13<00:00, 69.81it/s]\n",
      "100%|████████████████████████████████████████████████████████████████████████████████| 157/157 [00:01<00:00, 82.12it/s]\n"
     ]
    },
    {
     "name": "stdout",
     "output_type": "stream",
     "text": [
      "Epoch 10/10:\n",
      "Train Loss: 0.0251, Train Acc: 0.9919\n",
      "Test Loss: 0.0802, Test Acc: 0.9798\n",
      "--------------------------------------------------\n",
      "\n",
      "Обучение модели bottleneck_512_256_512...\n"
     ]
    },
    {
     "name": "stderr",
     "output_type": "stream",
     "text": [
      "100%|████████████████████████████████████████████████████████████████████████████████| 938/938 [00:15<00:00, 60.51it/s]\n",
      "100%|████████████████████████████████████████████████████████████████████████████████| 157/157 [00:02<00:00, 78.23it/s]\n"
     ]
    },
    {
     "name": "stdout",
     "output_type": "stream",
     "text": [
      "Epoch 1/10:\n",
      "Train Loss: 0.2162, Train Acc: 0.9333\n",
      "Test Loss: 0.1057, Test Acc: 0.9676\n",
      "--------------------------------------------------\n"
     ]
    },
    {
     "name": "stderr",
     "output_type": "stream",
     "text": [
      "100%|████████████████████████████████████████████████████████████████████████████████| 938/938 [00:17<00:00, 55.07it/s]\n",
      "100%|████████████████████████████████████████████████████████████████████████████████| 157/157 [00:02<00:00, 75.63it/s]\n"
     ]
    },
    {
     "name": "stdout",
     "output_type": "stream",
     "text": [
      "Epoch 2/10:\n",
      "Train Loss: 0.0972, Train Acc: 0.9706\n",
      "Test Loss: 0.0949, Test Acc: 0.9713\n",
      "--------------------------------------------------\n"
     ]
    },
    {
     "name": "stderr",
     "output_type": "stream",
     "text": [
      "100%|████████████████████████████████████████████████████████████████████████████████| 938/938 [00:16<00:00, 56.40it/s]\n",
      "100%|████████████████████████████████████████████████████████████████████████████████| 157/157 [00:01<00:00, 80.05it/s]\n"
     ]
    },
    {
     "name": "stdout",
     "output_type": "stream",
     "text": [
      "Epoch 3/10:\n",
      "Train Loss: 0.0689, Train Acc: 0.9788\n",
      "Test Loss: 0.0826, Test Acc: 0.9742\n",
      "--------------------------------------------------\n"
     ]
    },
    {
     "name": "stderr",
     "output_type": "stream",
     "text": [
      "100%|████████████████████████████████████████████████████████████████████████████████| 938/938 [00:15<00:00, 60.43it/s]\n",
      "100%|████████████████████████████████████████████████████████████████████████████████| 157/157 [00:01<00:00, 79.36it/s]\n"
     ]
    },
    {
     "name": "stdout",
     "output_type": "stream",
     "text": [
      "Epoch 4/10:\n",
      "Train Loss: 0.0539, Train Acc: 0.9829\n",
      "Test Loss: 0.0950, Test Acc: 0.9698\n",
      "--------------------------------------------------\n"
     ]
    },
    {
     "name": "stderr",
     "output_type": "stream",
     "text": [
      "100%|████████████████████████████████████████████████████████████████████████████████| 938/938 [00:15<00:00, 59.89it/s]\n",
      "100%|████████████████████████████████████████████████████████████████████████████████| 157/157 [00:01<00:00, 79.18it/s]\n"
     ]
    },
    {
     "name": "stdout",
     "output_type": "stream",
     "text": [
      "Epoch 5/10:\n",
      "Train Loss: 0.0457, Train Acc: 0.9859\n",
      "Test Loss: 0.1027, Test Acc: 0.9733\n",
      "--------------------------------------------------\n"
     ]
    },
    {
     "name": "stderr",
     "output_type": "stream",
     "text": [
      "100%|████████████████████████████████████████████████████████████████████████████████| 938/938 [00:15<00:00, 60.75it/s]\n",
      "100%|████████████████████████████████████████████████████████████████████████████████| 157/157 [00:01<00:00, 79.38it/s]\n"
     ]
    },
    {
     "name": "stdout",
     "output_type": "stream",
     "text": [
      "Epoch 6/10:\n",
      "Train Loss: 0.0386, Train Acc: 0.9882\n",
      "Test Loss: 0.0808, Test Acc: 0.9779\n",
      "--------------------------------------------------\n"
     ]
    },
    {
     "name": "stderr",
     "output_type": "stream",
     "text": [
      "100%|████████████████████████████████████████████████████████████████████████████████| 938/938 [00:15<00:00, 61.20it/s]\n",
      "100%|████████████████████████████████████████████████████████████████████████████████| 157/157 [00:01<00:00, 79.04it/s]\n"
     ]
    },
    {
     "name": "stdout",
     "output_type": "stream",
     "text": [
      "Epoch 7/10:\n",
      "Train Loss: 0.0345, Train Acc: 0.9894\n",
      "Test Loss: 0.0915, Test Acc: 0.9763\n",
      "--------------------------------------------------\n"
     ]
    },
    {
     "name": "stderr",
     "output_type": "stream",
     "text": [
      "100%|████████████████████████████████████████████████████████████████████████████████| 938/938 [00:15<00:00, 60.81it/s]\n",
      "100%|████████████████████████████████████████████████████████████████████████████████| 157/157 [00:02<00:00, 77.82it/s]\n"
     ]
    },
    {
     "name": "stdout",
     "output_type": "stream",
     "text": [
      "Epoch 8/10:\n",
      "Train Loss: 0.0270, Train Acc: 0.9914\n",
      "Test Loss: 0.0938, Test Acc: 0.9797\n",
      "--------------------------------------------------\n"
     ]
    },
    {
     "name": "stderr",
     "output_type": "stream",
     "text": [
      "100%|████████████████████████████████████████████████████████████████████████████████| 938/938 [00:15<00:00, 60.81it/s]\n",
      "100%|████████████████████████████████████████████████████████████████████████████████| 157/157 [00:02<00:00, 77.89it/s]\n"
     ]
    },
    {
     "name": "stdout",
     "output_type": "stream",
     "text": [
      "Epoch 9/10:\n",
      "Train Loss: 0.0277, Train Acc: 0.9913\n",
      "Test Loss: 0.0904, Test Acc: 0.9786\n",
      "--------------------------------------------------\n"
     ]
    },
    {
     "name": "stderr",
     "output_type": "stream",
     "text": [
      "100%|████████████████████████████████████████████████████████████████████████████████| 938/938 [00:15<00:00, 61.13it/s]\n",
      "100%|████████████████████████████████████████████████████████████████████████████████| 157/157 [00:01<00:00, 78.76it/s]\n"
     ]
    },
    {
     "name": "stdout",
     "output_type": "stream",
     "text": [
      "Epoch 10/10:\n",
      "Train Loss: 0.0263, Train Acc: 0.9920\n",
      "Test Loss: 0.1001, Test Acc: 0.9783\n",
      "--------------------------------------------------\n",
      "\n",
      "Лучшая архитектура: constant_256 с точностью на тестовом наборе: 0.9799\n"
     ]
    },
    {
     "data": {
      "image/png": "[encoded data removed]",
      "text/plain": [
       "<Figure size 1200x600 with 1 Axes>"
      ]
     },
     "metadata": {},
     "output_type": "display_data"
    }
   ],
   "source": [
    "import torch\n",
    "import time\n",
    "import matplotlib.pyplot as plt\n",
    "from datasets import get_mnist_loaders\n",
    "from models import FullyConnectedModel\n",
    "from trainer import train_model\n",
    "from utils import count_parameters\n",
    "\n",
    "# Устанавливаем устройство (GPU, если доступно, иначе CPU)\n",
    "device = torch.device('cuda' if torch.cuda.is_available() else 'cpu')\n",
    "\n",
    "# Загружаем набор данных MNIST\n",
    "train_loader, test_loader = get_mnist_loaders(batch_size=64)\n",
    "\n",
    "# Функция для генерации конфигурации слоев с линейными слоями и ReLU\n",
    "def generate_layers(hidden_sizes):\n",
    "    layers = []\n",
    "    for size in hidden_sizes:\n",
    "        layers.append({\"type\": \"linear\", \"size\": size})\n",
    "        layers.append({\"type\": \"relu\"})\n",
    "    return layers\n",
    "\n",
    "# Функция для обучения и оценки модели\n",
    "def train_and_evaluate(layers, name):\n",
    "    model = FullyConnectedModel(input_size=784, num_classes=10, layers=layers).to(device)\n",
    "    param_count = count_parameters(model) # Подсчет количества параметров\n",
    "    start_time = time.time()\n",
    "    history = train_model(model, train_loader, test_loader, epochs=10, device=device)\n",
    "    end_time = time.time()\n",
    "    training_time = end_time - start_time\n",
    "    final_test_acc = history['test_accs'][-1]\n",
    "    return history, param_count, training_time, final_test_acc\n",
    "\n",
    "# Часть 2.1: Сравнение моделей с разной шириной слоев\n",
    "print(\"=== Эксперимент 2.1: Сравнение моделей с разной шириной слоев ===\")\n",
    "\n",
    "# Конфигурации ширины слоев\n",
    "width_configs = {\n",
    "    \"narrow\": [64, 32, 16],\n",
    "    \"medium\": [256, 128, 64],\n",
    "    \"wide\": [1024, 512, 256],\n",
    "    \"very_wide\": [2048, 1024, 512]\n",
    "}\n",
    "\n",
    "histories = {}\n",
    "param_counts = {}\n",
    "training_times = {}\n",
    "final_test_accs = {}\n",
    "\n",
    "for name, hidden_sizes in width_configs.items():\n",
    "    print(f\"\\nОбучение модели {name}...\")\n",
    "    layers = generate_layers(hidden_sizes)\n",
    "    history, param_count, training_time, final_test_acc = train_and_evaluate(layers, name)\n",
    "    histories[name] = history\n",
    "    param_counts[name] = param_count\n",
    "    training_times[name] = training_time\n",
    "    final_test_accs[name] = final_test_acc\n",
    "\n",
    "# Построение графиков точности на тестовом наборе\n",
    "plt.figure(figsize=(10, 6))\n",
    "for name in width_configs:\n",
    "    plt.plot(histories[name]['test_accs'], label=name)\n",
    "plt.xlabel('Эпоха')\n",
    "plt.ylabel('Точность на тестовом наборе')\n",
    "plt.legend()\n",
    "plt.title('Точность на тестовом наборе для моделей с разной шириной')\n",
    "plt.show()\n",
    "\n",
    "# Вывод сводной информации\n",
    "print(\"\\nСводка по экспериментам с шириной:\")\n",
    "for name in width_configs:\n",
    "    print(f\"{name}: Параметры: {param_counts[name]}, Время обучения: {training_times[name]:.2f} с, Итоговая точность на тестовом наборе: {final_test_accs[name]:.4f}\")\n",
    "\n",
    "# Часть 2.2: Оптимизация архитектуры с использованием сетчатого поиска (grid search)\n",
    "print(\"\\n=== Эксперимент 2.2: Оптимизация архитектуры с использованием сетчатого поиска ===\")\n",
    "\n",
    "# Конфигурации архитектур для сетчатого поиска\n",
    "arch_configs = [\n",
    "    ([512, 256, 128], \"contracting_512_256_128\"), # Сужающаяся архитектура\n",
    "    ([1024, 512, 256], \"contracting_1024_512_256\"), # Более широкая сужающаяся архитектура\n",
    "    ([128, 256, 512], \"expanding_128_256_512\"), # Расширяющаяся архитектура\n",
    "    ([256, 512, 1024], \"expanding_256_512_1024\"), # Более широкая расширяющаяся архитектура\n",
    "    ([256, 256, 256], \"constant_256\"), # Постоянная ширина\n",
    "    ([512, 512, 512], \"constant_512\"), # Более широкая постоянная ширина\n",
    "    ([256, 128, 256], \"bottleneck_256_128_256\"), # Архитектура с \"бутылочным горлышком\"\n",
    "    ([512, 256, 512], \"bottleneck_512_256_512\"), # Более широкая архитектура с \"бутылочным горлышком\"\n",
    "]\n",
    "\n",
    "results = []\n",
    "\n",
    "for hidden_sizes, name in arch_configs:\n",
    "    print(f\"\\nОбучение модели {name}...\")\n",
    "    layers = generate_layers(hidden_sizes)\n",
    "    _, _, _, final_test_acc = train_and_evaluate(layers, name)\n",
    "    results.append((name, final_test_acc))\n",
    "\n",
    "# Сортировка результатов по точности на тестовом наборе (по убыванию)\n",
    "results.sort(key=lambda x: x[1], reverse=True)\n",
    "\n",
    "# Вывод лучшей архитектуры\n",
    "print(f\"\\nЛучшая архитектура: {results[0][0]} с точностью на тестовом наборе: {results[0][1]:.4f}\")\n",
    "\n",
    "# Построение столбчатой диаграммы для сравнения архитектур\n",
    "names = [r[0] for r in results]\n",
    "accs = [r[1] for r in results]\n",
    "plt.figure(figsize=(12, 6))\n",
    "plt.bar(names, accs)\n",
    "plt.xlabel('Архитектура')\n",
    "plt.ylabel('Итоговая точность на тестовом наборе')\n",
    "plt.title('Сравнение различных архитектур')\n",
    "plt.xticks(rotation=45) # Поворот подписей по оси X для лучшей читаемости\n",
    "plt.tight_layout() # Автоматическая настройка параметров графика для плотного расположения элементов\n",
    "plt.show()"
   ]
  },
  {
   "cell_type": "code",
   "execution_count": null,
   "id": "5cae999f-0af9-4a6a-9e0d-47c0df0f3f47",
   "metadata": {},
   "outputs": [],
   "source": []
  }
 ],
 "metadata": {
  "kernelspec": {
   "display_name": "Python 3 (ipykernel)",
   "language": "python",
   "name": "python3"
  },
  "language_info": {
   "codemirror_mode": {
    "name": "ipython",
    "version": 3
   },
   "file_extension": ".py",
   "mimetype": "text/x-python",
   "name": "python",
   "nbconvert_exporter": "python",
   "pygments_lexer": "ipython3",
   "version": "3.13.5"
  }
 },
 "nbformat": 4,
 "nbformat_minor": 5
}
